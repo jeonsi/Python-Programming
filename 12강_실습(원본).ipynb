{
  "cells": [
    {
      "cell_type": "markdown",
      "metadata": {
        "colab_type": "text",
        "id": "view-in-github"
      },
      "source": [
        "<a href=\"https://colab.research.google.com/github/jaehwachung/Python-Programming/blob/main/12%EA%B0%95_%EC%8B%A4%EC%8A%B5(%EC%9B%90%EB%B3%B8).ipynb\" target=\"_parent\"><img src=\"https://colab.research.google.com/assets/colab-badge.svg\" alt=\"Open In Colab\"/></a>"
      ]
    },
    {
      "cell_type": "markdown",
      "metadata": {
        "id": "gsIqze9Vyw5b"
      },
      "source": [
        "# 12강 실습"
      ]
    },
    {
      "cell_type": "markdown",
      "metadata": {
        "id": "bQcXLxROy7C_"
      },
      "source": [
        "**12강 1절**"
      ]
    },
    {
      "cell_type": "markdown",
      "metadata": {
        "id": "CMTsz70kzLeS"
      },
      "source": [
        "'Khan.txt' 파일을 읽고 처리하는 프로그램을 작성하시오. "
      ]
    },
    {
      "cell_type": "markdown",
      "metadata": {
        "id": "550wwIWMy_Fn"
      },
      "source": [
        "**12강 2절**"
      ]
    },
    {
      "cell_type": "markdown",
      "metadata": {
        "id": "ul20N9_MzMGh"
      },
      "source": [
        "\"hamlet_by_Shakespeare.txt\" 파일에 포함된 단어와 각 단어의 출현 횟수를 출력하는 프로그램을 작성하시오"
      ]
    },
    {
      "cell_type": "markdown",
      "metadata": {
        "id": "5ui2teFoHcsF"
      },
      "source": [
        "'hamlet_by_Shakespeare.txt' 파일에 포함된 단어 중 출현한 횟수가 100 이상되는 단어와 출력 횟수를 출력하는 프로그램을 작성하시오 \n"
      ]
    },
    {
      "cell_type": "code",
      "execution_count": null,
      "metadata": {
        "id": "8hkroqVlX69s"
      },
      "outputs": [],
      "source": []
    }
  ],
  "metadata": {
    "colab": {
      "authorship_tag": "ABX9TyP0sxafno7ztxsREyYCAI/x",
      "include_colab_link": true,
      "provenance": []
    },
    "kernelspec": {
      "display_name": "Python 3",
      "name": "python3"
    },
    "language_info": {
      "name": "python",
      "version": "3.10.6"
    }
  },
  "nbformat": 4,
  "nbformat_minor": 0
}
