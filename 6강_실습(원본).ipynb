{
  "cells": [
    {
      "cell_type": "markdown",
      "metadata": {
        "colab_type": "text",
        "id": "view-in-github"
      },
      "source": [
        "<a href=\"https://colab.research.google.com/github/jaehwachung/Python-Programming/blob/main/6%EA%B0%95_%EC%8B%A4%EC%8A%B5(%EC%9B%90%EB%B3%B8).ipynb\" target=\"_parent\"><img src=\"https://colab.research.google.com/assets/colab-badge.svg\" alt=\"Open In Colab\"/></a>"
      ]
    },
    {
      "cell_type": "markdown",
      "metadata": {
        "id": "hckgpz65oDBv"
      },
      "source": [
        "# 6장 1절"
      ]
    },
    {
      "cell_type": "code",
      "execution_count": 1,
      "metadata": {
        "id": "ZW1w8qQHoAm3"
      },
      "outputs": [
        {
          "name": "stdout",
          "output_type": "stream",
          "text": [
            "원뿔의 부피는 2093.333333333333 입니다.\n",
            "원뿔의 겉넓이는 942.0 입니다\n"
          ]
        }
      ],
      "source": [
        "#반지름 사용자 입력\n",
        "rad = int(input(\"반지름을 입력하세요:\"))\n",
        "#높이 사용자 입력\n",
        "hei = int(input(\"높이를 입력하세요:\"))\n",
        "#부피&겉넓이 계산\n",
        "vol = 1/3 * 3.14 * rad ** 2 * hei\n",
        "suf = 3.14 * rad ** 2 + 3.14 * rad * hei\n",
        "print(\"원뿔의 부피는\" ,vol, \"입니다.\")\n",
        "print(\"원뿔의 겉넓이는\" ,suf, \"입니다\")"
      ]
    },
    {
      "cell_type": "markdown",
      "metadata": {
        "id": "gIxdfGagpB53"
      },
      "source": []
    },
    {
      "cell_type": "markdown",
      "metadata": {
        "id": "cquz2vj9oGml"
      },
      "source": [
        "# 6강 2절"
      ]
    },
    {
      "cell_type": "markdown",
      "metadata": {
        "id": "_2ZlVieZpKuT"
      },
      "source": [
        "가장 큰 수 찾는 프로그램"
      ]
    },
    {
      "cell_type": "code",
      "execution_count": 8,
      "metadata": {
        "id": "SuPkvKRSoJBE"
      },
      "outputs": [
        {
          "name": "stdout",
          "output_type": "stream",
          "text": [
            "3\n"
          ]
        },
        {
          "data": {
            "text/plain": [
              "3"
            ]
          },
          "execution_count": 8,
          "metadata": {},
          "output_type": "execute_result"
        }
      ],
      "source": [
        "# A, B, C 사용자 입력\n",
        "a = int(input(\"A: \"))\n",
        "b = int(input(\"B: \"))\n",
        "c = int(input(\"C: \"))\n",
        "\n",
        "# A, B, C 중 가장 큰 수 출력\n",
        "if a > b:\n",
        "    if b > c:\n",
        "        print(a)\n",
        "    else:\n",
        "        if a > c:\n",
        "            print(a)\n",
        "        else:\n",
        "            print(c)\n",
        "else:\n",
        "    if b > c:\n",
        "        print(b)\n",
        "    else:\n",
        "        print(c)\n",
        "# max 함수 이용\n",
        "max(a, b, c)"
      ]
    }
  ],
  "metadata": {
    "colab": {
      "authorship_tag": "ABX9TyPSMrkx1D4lV1G94HA1244X",
      "include_colab_link": true,
      "provenance": []
    },
    "kernelspec": {
      "display_name": "Python 3",
      "name": "python3"
    },
    "language_info": {
      "codemirror_mode": {
        "name": "ipython",
        "version": 3
      },
      "file_extension": ".py",
      "mimetype": "text/x-python",
      "name": "python",
      "nbconvert_exporter": "python",
      "pygments_lexer": "ipython3",
      "version": "3.10.6"
    }
  },
  "nbformat": 4,
  "nbformat_minor": 0
}
