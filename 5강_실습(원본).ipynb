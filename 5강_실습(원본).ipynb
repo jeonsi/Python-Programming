{
  "cells": [
    {
      "cell_type": "markdown",
      "metadata": {
        "colab_type": "text",
        "id": "view-in-github"
      },
      "source": [
        "<a href=\"https://colab.research.google.com/github/jaehwachung/Python-Programming/blob/main/5%EA%B0%95_%EC%8B%A4%EC%8A%B5(%EC%9B%90%EB%B3%B8).ipynb\" target=\"_parent\"><img src=\"https://colab.research.google.com/assets/colab-badge.svg\" alt=\"Open In Colab\"/></a>"
      ]
    },
    {
      "cell_type": "markdown",
      "metadata": {
        "id": "QaMMtoihlN9D"
      },
      "source": [
        "# 5강 2절"
      ]
    },
    {
      "cell_type": "markdown",
      "metadata": {
        "id": "zsVGhzcxlSh2"
      },
      "source": [
        "삼각형 출력하기"
      ]
    },
    {
      "cell_type": "code",
      "execution_count": 1,
      "metadata": {
        "id": "Uzg7FWgclGzv"
      },
      "outputs": [
        {
          "name": "stdout",
          "output_type": "stream",
          "text": [
            "   *\n",
            "  ***\n",
            " *****\n",
            "*******\n"
          ]
        }
      ],
      "source": [
        "print(\"   *\")\n",
        "print(\"  ***\")\n",
        "print(\" *****\")\n",
        "print(\"*******\")"
      ]
    },
    {
      "cell_type": "markdown",
      "metadata": {
        "id": "o1aoIihhlrBZ"
      },
      "source": [
        "원뿔 계산 프로그램 개선"
      ]
    },
    {
      "cell_type": "code",
      "execution_count": 2,
      "metadata": {
        "id": "jzJqpbKgluL7"
      },
      "outputs": [
        {
          "name": "stdout",
          "output_type": "stream",
          "text": [
            "12559.999999999998\n",
            "3140.0\n"
          ]
        }
      ],
      "source": [
        "#반지름, 높이 값 할당\n",
        "rad = 20\n",
        "hei = 30\n",
        "#부피 출력\n",
        "print(1 / 3 * 3.14 * rad ** 2 * hei)\n",
        "#겉넓이 출력\n",
        "print(3.14 * rad ** 2 + 3.14 * rad * hei)"
      ]
    }
  ],
  "metadata": {
    "colab": {
      "authorship_tag": "ABX9TyNjT8FCClD3uqlYoMFuRjKT",
      "include_colab_link": true,
      "provenance": []
    },
    "kernelspec": {
      "display_name": "Python 3",
      "name": "python3"
    },
    "language_info": {
      "codemirror_mode": {
        "name": "ipython",
        "version": 3
      },
      "file_extension": ".py",
      "mimetype": "text/x-python",
      "name": "python",
      "nbconvert_exporter": "python",
      "pygments_lexer": "ipython3",
      "version": "3.10.6"
    }
  },
  "nbformat": 4,
  "nbformat_minor": 0
}
