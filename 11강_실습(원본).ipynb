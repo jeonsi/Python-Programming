{
  "cells": [
    {
      "cell_type": "markdown",
      "metadata": {
        "colab_type": "text",
        "id": "view-in-github"
      },
      "source": [
        "<a href=\"https://colab.research.google.com/github/jaehwachung/Python-Programming/blob/main/11%EA%B0%95_%EC%8B%A4%EC%8A%B5(%EC%9B%90%EB%B3%B8).ipynb\" target=\"_parent\"><img src=\"https://colab.research.google.com/assets/colab-badge.svg\" alt=\"Open In Colab\"/></a>"
      ]
    },
    {
      "cell_type": "markdown",
      "metadata": {
        "id": "EtjZiTaxLjdH"
      },
      "source": [
        "# 11강 실습"
      ]
    },
    {
      "cell_type": "markdown",
      "metadata": {
        "id": "dM5Jl78KLnIG"
      },
      "source": [
        "**11강 1절 모듈의 이해**"
      ]
    },
    {
      "cell_type": "markdown",
      "metadata": {
        "id": "jLudepg7Lv6Y"
      },
      "source": [
        "dir, help 함수 테스트"
      ]
    },
    {
      "cell_type": "code",
      "execution_count": null,
      "metadata": {
        "id": "QjtNEdkcynR7"
      },
      "outputs": [],
      "source": []
    },
    {
      "cell_type": "markdown",
      "metadata": {
        "id": "BZcxx1KcM2eF"
      },
      "source": [
        "math 모듈을 사용한 원뿔 계산 프로그램"
      ]
    },
    {
      "cell_type": "code",
      "execution_count": null,
      "metadata": {
        "id": "ZJwXQoQIM7uw"
      },
      "outputs": [],
      "source": [
        "# 원뿔 클래스 정의\n",
        "class Cone :\n",
        "    def __init__(self, radius = 20, height = 30):\n",
        "        self.r = radius\n",
        "        self.h = height\n",
        "    \n",
        "    def get_vol(self) :\n",
        "        return 1/3 * 3.14 * self.r ** 2 * self.h\n",
        "\n",
        "    def get_surf(self) :\n",
        "        return 3.14 * self.r ** 2 + 3.14 * self.r * self.h\n"
      ]
    },
    {
      "cell_type": "markdown",
      "metadata": {
        "id": "MwGVxn3sLy8T"
      },
      "source": [
        "**11강 2절 유용한 모듈**"
      ]
    },
    {
      "cell_type": "markdown",
      "metadata": {
        "id": "A2gzGR3nM8nI"
      },
      "source": [
        "두 변의 길이 a, b와 끼인각 α인 삼각형의 넓이를 구하는 프로그램을 작성하시오.\n"
      ]
    },
    {
      "cell_type": "code",
      "execution_count": null,
      "metadata": {
        "id": "CK6KXvIv3IZV"
      },
      "outputs": [],
      "source": []
    },
    {
      "cell_type": "markdown",
      "metadata": {
        "id": "UP6aKi22RoxB"
      },
      "source": [
        "1 ~ 45 숫자 6개를 입력 받아 당첨 숫자와 \u000b비교하는 프로그램을 작성하시오.\n"
      ]
    },
    {
      "cell_type": "code",
      "execution_count": null,
      "metadata": {
        "id": "Btr-jR2m3KZA"
      },
      "outputs": [],
      "source": []
    },
    {
      "cell_type": "markdown",
      "metadata": {
        "id": "dZ3mQM7hR7z5"
      },
      "source": [
        "20번의 기회 안에 1 ~ 100 사이의 숫자를 \u000b맞히는 스무고개 프로그램을 작성하시오.\n"
      ]
    },
    {
      "cell_type": "code",
      "execution_count": null,
      "metadata": {
        "id": "XhmZvkWVSA9Z"
      },
      "outputs": [],
      "source": []
    },
    {
      "cell_type": "markdown",
      "metadata": {
        "id": "EdHUe1hr3bho"
      },
      "source": [
        "1000보다 작은 소수 찾기 프로그램"
      ]
    },
    {
      "cell_type": "code",
      "execution_count": null,
      "metadata": {
        "id": "b0odUfVq3bNF"
      },
      "outputs": [],
      "source": []
    }
  ],
  "metadata": {
    "colab": {
      "authorship_tag": "ABX9TyMoejaDsTLYlxAKeguzl1BO",
      "include_colab_link": true,
      "provenance": []
    },
    "kernelspec": {
      "display_name": "Python 3",
      "name": "python3"
    },
    "language_info": {
      "name": "python",
      "version": "3.10.6"
    }
  },
  "nbformat": 4,
  "nbformat_minor": 0
}
