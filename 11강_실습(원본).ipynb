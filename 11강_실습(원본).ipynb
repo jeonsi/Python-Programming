{
  "cells": [
    {
      "cell_type": "markdown",
      "metadata": {
        "colab_type": "text",
        "id": "view-in-github"
      },
      "source": [
        "<a href=\"https://colab.research.google.com/github/jaehwachung/Python-Programming/blob/main/11%EA%B0%95_%EC%8B%A4%EC%8A%B5(%EC%9B%90%EB%B3%B8).ipynb\" target=\"_parent\"><img src=\"https://colab.research.google.com/assets/colab-badge.svg\" alt=\"Open In Colab\"/></a>"
      ]
    },
    {
      "cell_type": "markdown",
      "metadata": {
        "id": "EtjZiTaxLjdH"
      },
      "source": [
        "# 11강 실습"
      ]
    },
    {
      "cell_type": "markdown",
      "metadata": {
        "id": "dM5Jl78KLnIG"
      },
      "source": [
        "**11강 1절 모듈의 이해**"
      ]
    },
    {
      "cell_type": "markdown",
      "metadata": {
        "id": "jLudepg7Lv6Y"
      },
      "source": [
        "dir, help 함수 테스트"
      ]
    },
    {
      "cell_type": "code",
      "execution_count": 24,
      "metadata": {
        "id": "QjtNEdkcynR7"
      },
      "outputs": [
        {
          "name": "stdout",
          "output_type": "stream",
          "text": [
            "Help on built-in function gamma in module math:\n",
            "\n",
            "gamma(x, /)\n",
            "    Gamma function at x.\n",
            "\n",
            "Help on built-in function upper:\n",
            "\n",
            "upper() method of builtins.str instance\n",
            "    Return a copy of the string converted to uppercase.\n",
            "\n"
          ]
        }
      ],
      "source": [
        "import math\n",
        "dir()    # modules in runtime\n",
        "dir(math)\n",
        "help(math.gamma)\n",
        "help(\"python\".upper)"
      ]
    },
    {
      "cell_type": "markdown",
      "metadata": {
        "id": "BZcxx1KcM2eF"
      },
      "source": [
        "math 모듈을 사용한 원뿔 계산 프로그램"
      ]
    },
    {
      "cell_type": "code",
      "execution_count": 28,
      "metadata": {
        "id": "ZJwXQoQIM7uw"
      },
      "outputs": [
        {
          "name": "stdout",
          "output_type": "stream",
          "text": [
            "3.141592653589793\n"
          ]
        }
      ],
      "source": [
        "import math\n",
        "\n",
        "print(math.pi)\n",
        "\n",
        "# 원뿔 클래스 정의\n",
        "class Cone :\n",
        "    def __init__(self, radius = 20, height = 30):\n",
        "        self.r = radius\n",
        "        self.h = height\n",
        "    \n",
        "    def get_vol(self) :\n",
        "        return 1/3 * math.pi * self.r ** 2 * self.h\n",
        "\n",
        "    def get_surf(self) :\n",
        "        return math.pi * self.r ** 2 + math.pi * self.r * self.h\n"
      ]
    },
    {
      "cell_type": "markdown",
      "metadata": {
        "id": "MwGVxn3sLy8T"
      },
      "source": [
        "**11강 2절 유용한 모듈**"
      ]
    },
    {
      "cell_type": "markdown",
      "metadata": {
        "id": "A2gzGR3nM8nI"
      },
      "source": [
        "두 변의 길이 a, b와 끼인각 α인 삼각형의 넓이를 구하는 프로그램을 작성하시오.\n"
      ]
    },
    {
      "cell_type": "code",
      "execution_count": 32,
      "metadata": {
        "id": "CK6KXvIv3IZV"
      },
      "outputs": [
        {
          "name": "stdout",
          "output_type": "stream",
          "text": [
            "86.60254037844386\n"
          ]
        }
      ],
      "source": [
        "from math import sin, radians\n",
        "\n",
        "a, b = 10, 20\n",
        "area = 1 / 2 * a * b * sin(radians(60))\n",
        "print(area)"
      ]
    },
    {
      "cell_type": "markdown",
      "metadata": {
        "id": "UP6aKi22RoxB"
      },
      "source": [
        "1 ~ 45 숫자 6개를 입력 받아 당첨 숫자와 \u000b비교하는 프로그램을 작성하시오.\n"
      ]
    },
    {
      "cell_type": "code",
      "execution_count": 38,
      "metadata": {
        "id": "Btr-jR2m3KZA"
      },
      "outputs": [
        {
          "name": "stdout",
          "output_type": "stream",
          "text": [
            "예상 번호는 [10, 13, 19, 21, 25, 33] 입니다.\n",
            "추첨 번호는 [25, 35, 31, 21, 41, 39] 입니다.\n",
            "축하합니다2개 맞혔습니다\n"
          ]
        }
      ],
      "source": [
        "import random\n",
        "\n",
        "guess_str = input(\"1~45 번호 6개를 쉼표로 분리하여 입력하세요: \").split(\", \")\n",
        "guess_list = list()\n",
        "\n",
        "for i in guess_str:\n",
        "    guess_list.append(int(i))\n",
        "\n",
        "lotto_list = random.sample(range(1, 46, 1), 6)\n",
        "print(\"예상 번호는\", guess_list, \"입니다.\")\n",
        "print(\"추첨 번호는\", lotto_list, \"입니다.\")\n",
        "\n",
        "hit_count = 0\n",
        "for guess in guess_list:\n",
        "    if guess in lotto_list:\n",
        "        hit_count = hit_count + 1\n",
        "\n",
        "print(\"축하합니다\" + str(hit_count) + \"개 맞혔습니다\")"
      ]
    },
    {
      "cell_type": "markdown",
      "metadata": {
        "id": "dZ3mQM7hR7z5"
      },
      "source": [
        "20번의 기회 안에 1 ~ 1000 사이의 숫자를 맞히는 스무고개 프로그램을 작성하시오."
      ]
    },
    {
      "cell_type": "code",
      "execution_count": 43,
      "metadata": {
        "id": "XhmZvkWVSA9Z"
      },
      "outputs": [
        {
          "name": "stdout",
          "output_type": "stream",
          "text": [
            "500보다 큽니다\n",
            "600보다 큽니다\n",
            "600보다 큽니다\n",
            "700보다 큽니다\n",
            "800보다 큽니다\n",
            "900보다 작습니다.\n",
            "850보다 작습니다.\n",
            "840보다 작습니다.\n",
            "830보다 큽니다\n",
            "830보다 큽니다\n",
            "835보다 큽니다\n",
            "836보다 큽니다\n",
            "837보다 큽니다\n",
            "맞혔습니다. 축하합니다.\n"
          ]
        }
      ],
      "source": [
        "import random\n",
        "\n",
        "hit_number = random.randint(1, 1001)\n",
        "#print(hit_number)\n",
        "\n",
        "guess_count_list = range(1, 21, 1)\n",
        "\n",
        "passfail = False\n",
        "for guess_count in guess_count_list:\n",
        "    guess = int(input(\"숫자를 맞혀보세요(\" + str(guess_count) + \"번째 시도): \"))\n",
        "\n",
        "    if hit_number == guess:\n",
        "        passfail = True\n",
        "        break\n",
        "    elif hit_number > guess:\n",
        "        print(str(guess) + \"보다 큽니다\")\n",
        "    else:\n",
        "        print(str(guess) + \"보다 작습니다.\")\n",
        "\n",
        "if passfail == True:\n",
        "    print(\"맞혔습니다. 축하합니다.\")\n",
        "else:\n",
        "    print(\"모든 기회를 다 사용하셨습니다. 다음에 다시 도전하세요.\")"
      ]
    },
    {
      "cell_type": "markdown",
      "metadata": {
        "id": "EdHUe1hr3bho"
      },
      "source": [
        "1000보다 작은 소수 찾기 프로그램"
      ]
    },
    {
      "cell_type": "code",
      "execution_count": 53,
      "metadata": {
        "id": "b0odUfVq3bNF"
      },
      "outputs": [
        {
          "name": "stdout",
          "output_type": "stream",
          "text": [
            "2, 3, 5, 7, 11, 13, 17, 19, 23, 29, 31, 37, 41, 43, 47, 53, 59, 61, 67, 71, 73, 79, 83, 89, 97, 101, 103, 107, 109, 113, 127, 131, 137, 139, 149, 151, 157, 163, 167, 173, 179, 181, 191, 193, 197, 199, 211, 223, 227, 229, 233, 239, 241, 251, 257, 263, 269, 271, 277, 281, 283, 293, 307, 311, 313, 317, 331, 337, 347, 349, 353, 359, 367, 373, 379, 383, 389, 397, 401, 409, 419, 421, 431, 433, 439, 443, 449, 457, 461, 463, 467, 479, 487, 491, 499, 503, 509, 521, 523, 541, 547, 557, 563, 569, 571, 577, 587, 593, 599, 601, 607, 613, 617, 619, 631, 641, 643, 647, 653, 659, 661, 673, 677, 683, 691, 701, 709, 719, 727, 733, 739, 743, 751, 757, 761, 769, 773, 787, 797, 809, 811, 821, 823, 827, 829, 839, 853, 857, 859, 863, 877, 881, 883, 887, 907, 911, 919, 929, 937, 941, 947, 953, 967, 971, 977, 983, 991, 997, \n",
            "0.0626833438873291 초 실행했습니다.\n"
          ]
        }
      ],
      "source": [
        "import time\n",
        "\n",
        "start_time = time.time()\n",
        "\n",
        "def is_prime(x):\n",
        "    for i in range(2, x):\n",
        "        if x % i == 0:\n",
        "            return False\n",
        "        \n",
        "    return True\n",
        "\n",
        "prime_count = 0\n",
        "for i in range(2, 1000):\n",
        "    if is_prime(i):\n",
        "        prime_count = prime_count + 1\n",
        "        print(i, end=\", \")\n",
        "print()\n",
        "\n",
        "end_time = time.time()\n",
        "print(end_time - start_time, \"초 실행했습니다.\")"
      ]
    }
  ],
  "metadata": {
    "colab": {
      "authorship_tag": "ABX9TyMoejaDsTLYlxAKeguzl1BO",
      "include_colab_link": true,
      "provenance": []
    },
    "kernelspec": {
      "display_name": "Python 3",
      "name": "python3"
    },
    "language_info": {
      "codemirror_mode": {
        "name": "ipython",
        "version": 3
      },
      "file_extension": ".py",
      "mimetype": "text/x-python",
      "name": "python",
      "nbconvert_exporter": "python",
      "pygments_lexer": "ipython3",
      "version": "3.10.6"
    }
  },
  "nbformat": 4,
  "nbformat_minor": 0
}
