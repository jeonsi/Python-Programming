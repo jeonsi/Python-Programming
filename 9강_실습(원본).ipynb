{
  "cells": [
    {
      "cell_type": "markdown",
      "metadata": {
        "colab_type": "text",
        "id": "view-in-github"
      },
      "source": [
        "<a href=\"https://colab.research.google.com/github/jaehwachung/Python-Programming/blob/main/9%EA%B0%95_%EC%8B%A4%EC%8A%B5(%EC%9B%90%EB%B3%B8).ipynb\" target=\"_parent\"><img src=\"https://colab.research.google.com/assets/colab-badge.svg\" alt=\"Open In Colab\"/></a>"
      ]
    },
    {
      "cell_type": "markdown",
      "metadata": {
        "id": "CAj_VKRq4Mhy"
      },
      "source": [
        "# 9강 1절"
      ]
    },
    {
      "cell_type": "markdown",
      "metadata": {
        "id": "-0FrgkDm_YRK"
      },
      "source": [
        "**원뿔 부피 계산 함수 정의**"
      ]
    },
    {
      "cell_type": "code",
      "execution_count": 1,
      "metadata": {
        "id": "OhGWjvMSf_uP"
      },
      "outputs": [],
      "source": [
        "def prt_cone_vol(rad, hei):\n",
        "  if rad > 0 and hei > 0 :\n",
        "      # r, h 모두 양수일 때\n",
        "      vol = 1/3 * 3.14 * rad ** 2 * hei\n",
        "      print(\"원뿔의 부피는\", vol, \"입니다.\")\n",
        "  else :\n",
        "    # r, h가 음수일 때\n",
        "    print(\"반지름과 높이 값에 양수를 입력하세요\")"
      ]
    },
    {
      "cell_type": "markdown",
      "metadata": {
        "id": "ygj-h_dt_elG"
      },
      "source": [
        "**원뿔 부피 계산 함수 호출**"
      ]
    },
    {
      "cell_type": "code",
      "execution_count": 2,
      "metadata": {
        "id": "Kgl7g457gFnj"
      },
      "outputs": [
        {
          "name": "stdout",
          "output_type": "stream",
          "text": [
            "원뿔의 부피는 2093.333333333333 입니다.\n"
          ]
        }
      ],
      "source": [
        "prt_cone_vol(10,20)"
      ]
    },
    {
      "cell_type": "markdown",
      "metadata": {
        "id": "3T0GpqYK_jXA"
      },
      "source": [
        "**숫자를 입력받고 역순으로 출력하는 함수를 사용한 프로그램 문제** "
      ]
    },
    {
      "cell_type": "code",
      "execution_count": 3,
      "metadata": {
        "id": "nsHHCmKB_pnQ"
      },
      "outputs": [
        {
          "name": "stdout",
          "output_type": "stream",
          "text": [
            "4321"
          ]
        }
      ],
      "source": [
        "def reverse_number(num):\n",
        "    while num > 0:\n",
        "        digit = num % 10\n",
        "        num = num // 10\n",
        "        print(digit, end=\"\")\n",
        "\n",
        "num = int(input(\"숫자? \"))\n",
        "reverse_number(num)"
      ]
    },
    {
      "cell_type": "markdown",
      "metadata": {
        "id": "bw1IBTsp4wMv"
      },
      "source": [
        "# 9강 2절 "
      ]
    },
    {
      "cell_type": "markdown",
      "metadata": {
        "id": "454aKvSdAI2a"
      },
      "source": [
        "**원뿔 부피 계산 결과 반환 함수 정의**"
      ]
    },
    {
      "cell_type": "code",
      "execution_count": 4,
      "metadata": {
        "id": "X8lfqqRBAQfV"
      },
      "outputs": [
        {
          "name": "stdout",
          "output_type": "stream",
          "text": [
            "            2093.333 입니다.\n"
          ]
        }
      ],
      "source": [
        "def rtn_cone_vol(rad, hei):\n",
        "  if rad > 0 and hei > 0 :\n",
        "      # r, h 모두 양수일 때\n",
        "      vol = 1/3 * 3.14 * rad ** 2 * hei\n",
        "      return vol\n",
        "  else :\n",
        "    # r, h가 음수일 때\n",
        "    print(\"반지름과 높이 값에 양수를 입력하세요\")\n",
        "\n",
        "print(format(rtn_cone_vol(10, 20), \"20.3f\"), \"입니다.\")"
      ]
    },
    {
      "cell_type": "markdown",
      "metadata": {
        "id": "Ae2D5Cal_szh"
      },
      "source": [
        "**원뿔 부피 및 겉넓이 반환 함수 정의**"
      ]
    },
    {
      "cell_type": "code",
      "execution_count": 5,
      "metadata": {
        "id": "cwZ6g1au45RD"
      },
      "outputs": [
        {
          "name": "stdout",
          "output_type": "stream",
          "text": [
            "부피:  261666.67 겉넓이:   23550.00 입니다.\n"
          ]
        }
      ],
      "source": [
        "def rtn_cone_vol(rad, hei):\n",
        "  if rad > 0 and hei > 0 :\n",
        "      # r, h 모두 양수일 때\n",
        "      vol = 1/3 * 3.14 * rad ** 2 * hei\n",
        "      surf = 3.14 * rad ** 2 + 3.14 * rad * hei\n",
        "      return vol, surf\n",
        "  else :\n",
        "    # r, h가 음수일 때\n",
        "    print(\"반지름과 높이 값에 양수를 입력하세요\")\n",
        "\n",
        "vol, surf = rtn_cone_vol(50, 100)\n",
        "print(\"부피:\", format(vol, \"10.2f\"), \"겉넓이:\", format(surf, \"10.2f\"), \"입니다.\")"
      ]
    },
    {
      "cell_type": "markdown",
      "metadata": {
        "id": "0FMNpd_4Ah9j"
      },
      "source": [
        "**세 개의 사용자 입력을 오름차순으로 정렬하는 함수를 이용하여 정렬된 값을 출력하는 문제**\n"
      ]
    },
    {
      "cell_type": "code",
      "execution_count": 6,
      "metadata": {
        "id": "toh-zjeLArWn"
      },
      "outputs": [
        {
          "name": "stdout",
          "output_type": "stream",
          "text": [
            "1 2 3\n",
            "출력이후 1 3 2\n"
          ]
        }
      ],
      "source": [
        "a = int(input(\"첫번째 숫자를 입력하세요: \"))\n",
        "b = int(input(\"첫번째 숫자를 입력하세요: \"))\n",
        "c = int(input(\"첫번째 숫자를 입력하세요: \"))\n",
        "\n",
        "def sort3(a, b, c):\n",
        "    if a > b:\n",
        "        a, b = b, a\n",
        "    if a > c:\n",
        "        a, c = c, a\n",
        "    if b > c:\n",
        "        b, c = c, b\n",
        "    \n",
        "    print(a, b, c)\n",
        "\n",
        "sort3(a, b, c)\n",
        "print(\"출력이후\", a, b, c)"
      ]
    },
    {
      "cell_type": "markdown",
      "metadata": {
        "id": "7qOMFABd4y1t"
      },
      "source": [
        "# 9강 3절"
      ]
    },
    {
      "cell_type": "markdown",
      "metadata": {
        "id": "pVwxXsFLBCY-"
      },
      "source": [
        "**값의 전달**"
      ]
    },
    {
      "cell_type": "code",
      "execution_count": 8,
      "metadata": {
        "id": "cwoR_CQp45ti"
      },
      "outputs": [
        {
          "name": "stdout",
          "output_type": "stream",
          "text": [
            "261666.667\n",
            "함수사용후 50 100\n"
          ]
        }
      ],
      "source": [
        "def rtn_cone_vol(rad, hei):\n",
        "  if rad > 0 and hei > 0 :\n",
        "      # r, h 모두 양수일 때\n",
        "      vol = 1/3 * 3.14 * rad ** 2 * hei\n",
        "      rad, hei = 0, 0\n",
        "      return vol\n",
        "  else :\n",
        "    # r, h가 음수일 때\n",
        "    print(\"반지름과 높이 값에 양수를 입력하세요\")\n",
        "\n",
        "radius = 50\n",
        "height = 100\n",
        "print(format(rtn_cone_vol(radius, height), \">10.3f\"))\n",
        "print(\"함수사용후\", radius, height)"
      ]
    },
    {
      "cell_type": "markdown",
      "metadata": {
        "id": "Wybq2K3yBJ8C"
      },
      "source": [
        "**변수의 스코프**"
      ]
    },
    {
      "cell_type": "code",
      "execution_count": 9,
      "metadata": {
        "id": "6ZuNFN9BBWKR"
      },
      "outputs": [
        {
          "name": "stdout",
          "output_type": "stream",
          "text": [
            "1. x의 값은 1\n",
            "2. x의 값은 2\n",
            "3. x의 값은 1\n"
          ]
        }
      ],
      "source": [
        "x = 1\n",
        "print(\"1. x의 값은\", x)\n",
        "\n",
        "def inc(x):\n",
        "    x = x + 1\n",
        "    print(\"2. x의 값은\", x)\n",
        "\n",
        "inc(x)\n",
        "print(\"3. x의 값은\", x)"
      ]
    },
    {
      "cell_type": "markdown",
      "metadata": {
        "id": "YDpFj9zqBL35"
      },
      "source": [
        "**단위 원뿔(반지름 20, 높이 30)의 부피와 겉넓이를 출력하는 문제**"
      ]
    },
    {
      "cell_type": "code",
      "execution_count": 12,
      "metadata": {
        "id": "mzWTObQdBXHc"
      },
      "outputs": [
        {
          "name": "stdout",
          "output_type": "stream",
          "text": [
            "(2093.333333333333, 23550.0)\n",
            "(12559.999999999998, 23550.0)\n"
          ]
        }
      ],
      "source": [
        "# 원뿔 계산 함수 정의\n",
        "def rtn_cone_vol_surf(r = 20, h = 30) :\n",
        "    if r > 0 and h > 0 :\n",
        "        # r, h 모두 양수일 때\n",
        "        vol = 1/3 * 3.14 * r ** 2 * h\n",
        "        suf = 3.14 * r ** 2 + 3.14 * r * h\n",
        "        return vol, surf\n",
        "    else :\n",
        "        # r, h가 음수일 때\n",
        "        print(\"반지름과 높이 값에 양수를 입력하세요\")\n",
        "\n",
        "print(rtn_cone_vol_surf(10, 20))\n",
        "print(rtn_cone_vol_surf())\n"
      ]
    },
    {
      "cell_type": "markdown",
      "metadata": {
        "id": "WqqJAJ0ACOjj"
      },
      "source": [
        "**여러개의 수를 입력받고 합과 평균을 반환하는는 var_sum_avg 함수를 사용하여, (20, 25, 10, 85, 100, 150)에 대한 합과 평균을 출력하는 프로그램을 작성하시오.**\n"
      ]
    },
    {
      "cell_type": "code",
      "execution_count": 14,
      "metadata": {
        "id": "GDZkR-SKCVth"
      },
      "outputs": [
        {
          "name": "stdout",
          "output_type": "stream",
          "text": [
            "(390, 65.0)\n"
          ]
        }
      ],
      "source": [
        "def var_sum_avg(*numbers):\n",
        "    sum, count = 0, 0\n",
        "    for i in numbers:\n",
        "        sum = sum + i\n",
        "        count = count + 1\n",
        "    return sum, sum/count\n",
        "\n",
        "\n",
        "print(var_sum_avg(20, 25, 10, 85, 100, 150))"
      ]
    }
  ],
  "metadata": {
    "colab": {
      "authorship_tag": "ABX9TyPwlgWCjsWPzGJnpqlIYeC4",
      "include_colab_link": true,
      "provenance": []
    },
    "kernelspec": {
      "display_name": "Python 3",
      "name": "python3"
    },
    "language_info": {
      "codemirror_mode": {
        "name": "ipython",
        "version": 3
      },
      "file_extension": ".py",
      "mimetype": "text/x-python",
      "name": "python",
      "nbconvert_exporter": "python",
      "pygments_lexer": "ipython3",
      "version": "3.10.6"
    }
  },
  "nbformat": 4,
  "nbformat_minor": 0
}
